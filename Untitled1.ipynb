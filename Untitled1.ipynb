{
 "cells": [
  {
   "cell_type": "code",
   "execution_count": 8,
   "id": "5ffbbcc7",
   "metadata": {
    "ExecuteTime": {
     "end_time": "2021-09-25T12:42:19.523186Z",
     "start_time": "2021-09-25T12:42:19.517385Z"
    }
   },
   "outputs": [],
   "source": [
    "from pynamodb.models import Model\n",
    "from importlib import reload"
   ]
  },
  {
   "cell_type": "code",
   "execution_count": 2,
   "id": "ac49997d",
   "metadata": {
    "ExecuteTime": {
     "end_time": "2021-09-25T12:39:25.766764Z",
     "start_time": "2021-09-25T12:39:25.746089Z"
    }
   },
   "outputs": [],
   "source": [
    "from src.db.models.attendance import Attendance\n",
    "\n"
   ]
  },
  {
   "cell_type": "code",
   "execution_count": 3,
   "id": "482bc7d6",
   "metadata": {
    "ExecuteTime": {
     "end_time": "2021-09-25T12:39:37.423112Z",
     "start_time": "2021-09-25T12:39:37.412406Z"
    }
   },
   "outputs": [],
   "source": [
    "user = Attendance(1, '2021-09-25')\n"
   ]
  },
  {
   "cell_type": "code",
   "execution_count": 4,
   "id": "072fd11a",
   "metadata": {
    "ExecuteTime": {
     "end_time": "2021-09-25T12:39:44.789498Z",
     "start_time": "2021-09-25T12:39:44.783267Z"
    }
   },
   "outputs": [
    {
     "name": "stdout",
     "output_type": "stream",
     "text": [
      "attendances<1, 2021-09-25>\n"
     ]
    }
   ],
   "source": [
    "print(user)"
   ]
  },
  {
   "cell_type": "code",
   "execution_count": 5,
   "id": "02e8f7fb",
   "metadata": {
    "ExecuteTime": {
     "end_time": "2021-09-25T12:39:57.839270Z",
     "start_time": "2021-09-25T12:39:56.116395Z"
    }
   },
   "outputs": [
    {
     "data": {
      "text/plain": [
       "{'ConsumedCapacity': {'CapacityUnits': 1.0, 'TableName': 'attendances'}}"
      ]
     },
     "execution_count": 5,
     "metadata": {},
     "output_type": "execute_result"
    }
   ],
   "source": [
    "        user.save()\n"
   ]
  },
  {
   "cell_type": "code",
   "execution_count": 12,
   "id": "f18d5d38",
   "metadata": {
    "ExecuteTime": {
     "end_time": "2021-09-25T12:55:47.431823Z",
     "start_time": "2021-09-25T12:55:47.386258Z"
    }
   },
   "outputs": [
    {
     "ename": "TypeError",
     "evalue": "reload() argument must be a module",
     "output_type": "error",
     "traceback": [
      "\u001b[0;31m---------------------------------------------------------------------------\u001b[0m",
      "\u001b[0;31mTypeError\u001b[0m                                 Traceback (most recent call last)",
      "\u001b[0;32m/var/folders/kd/hmf3mk710f18n0_vzm2z15yr0000gn/T/ipykernel_29225/2739599792.py\u001b[0m in \u001b[0;36m<module>\u001b[0;34m\u001b[0m\n\u001b[0;32m----> 1\u001b[0;31m \u001b[0mreload\u001b[0m\u001b[0;34m(\u001b[0m\u001b[0mAttendance\u001b[0m\u001b[0;34m)\u001b[0m\u001b[0;34m\u001b[0m\u001b[0;34m\u001b[0m\u001b[0m\n\u001b[0m",
      "\u001b[0;32m/Library/Frameworks/Python.framework/Versions/3.9/lib/python3.9/importlib/__init__.py\u001b[0m in \u001b[0;36mreload\u001b[0;34m(module)\u001b[0m\n\u001b[1;32m    138\u001b[0m     \"\"\"\n\u001b[1;32m    139\u001b[0m     \u001b[0;32mif\u001b[0m \u001b[0;32mnot\u001b[0m \u001b[0mmodule\u001b[0m \u001b[0;32mor\u001b[0m \u001b[0;32mnot\u001b[0m \u001b[0misinstance\u001b[0m\u001b[0;34m(\u001b[0m\u001b[0mmodule\u001b[0m\u001b[0;34m,\u001b[0m \u001b[0mtypes\u001b[0m\u001b[0;34m.\u001b[0m\u001b[0mModuleType\u001b[0m\u001b[0;34m)\u001b[0m\u001b[0;34m:\u001b[0m\u001b[0;34m\u001b[0m\u001b[0;34m\u001b[0m\u001b[0m\n\u001b[0;32m--> 140\u001b[0;31m         \u001b[0;32mraise\u001b[0m \u001b[0mTypeError\u001b[0m\u001b[0;34m(\u001b[0m\u001b[0;34m\"reload() argument must be a module\"\u001b[0m\u001b[0;34m)\u001b[0m\u001b[0;34m\u001b[0m\u001b[0;34m\u001b[0m\u001b[0m\n\u001b[0m\u001b[1;32m    141\u001b[0m     \u001b[0;32mtry\u001b[0m\u001b[0;34m:\u001b[0m\u001b[0;34m\u001b[0m\u001b[0;34m\u001b[0m\u001b[0m\n\u001b[1;32m    142\u001b[0m         \u001b[0mname\u001b[0m \u001b[0;34m=\u001b[0m \u001b[0mmodule\u001b[0m\u001b[0;34m.\u001b[0m\u001b[0m__spec__\u001b[0m\u001b[0;34m.\u001b[0m\u001b[0mname\u001b[0m\u001b[0;34m\u001b[0m\u001b[0;34m\u001b[0m\u001b[0m\n",
      "\u001b[0;31mTypeError\u001b[0m: reload() argument must be a module"
     ]
    }
   ],
   "source": [
    "reload(Attendance)"
   ]
  },
  {
   "cell_type": "code",
   "execution_count": 16,
   "id": "912adbac",
   "metadata": {
    "ExecuteTime": {
     "end_time": "2021-09-25T12:57:57.124306Z",
     "start_time": "2021-09-25T12:57:57.099088Z"
    }
   },
   "outputs": [
    {
     "data": {
      "text/plain": [
       "<module 'src.db.models.attendance' from '/Users/salabhagarwal/Documents/nexfac/Flask-API/src/db/models/attendance.py'>"
      ]
     },
     "execution_count": 16,
     "metadata": {},
     "output_type": "execute_result"
    }
   ],
   "source": [
    "from src.db.models import attendance\n",
    "reload(attendance)"
   ]
  },
  {
   "cell_type": "code",
   "execution_count": 22,
   "id": "7f8ad7ab",
   "metadata": {
    "ExecuteTime": {
     "end_time": "2021-09-25T13:04:20.313607Z",
     "start_time": "2021-09-25T13:04:20.303791Z"
    }
   },
   "outputs": [],
   "source": [
    "user = Attendance(1, '2021-09-25')\n",
    "user.is_marked = True;"
   ]
  },
  {
   "cell_type": "code",
   "execution_count": 23,
   "id": "1045a733",
   "metadata": {
    "ExecuteTime": {
     "end_time": "2021-09-25T13:04:22.468776Z",
     "start_time": "2021-09-25T13:04:22.160072Z"
    }
   },
   "outputs": [
    {
     "data": {
      "text/plain": [
       "{'ConsumedCapacity': {'CapacityUnits': 1.0, 'TableName': 'attendances'}}"
      ]
     },
     "execution_count": 23,
     "metadata": {},
     "output_type": "execute_result"
    }
   ],
   "source": [
    "        user.save()\n"
   ]
  },
  {
   "cell_type": "code",
   "execution_count": 19,
   "id": "8ce79f1c",
   "metadata": {
    "ExecuteTime": {
     "end_time": "2021-09-25T13:02:17.844785Z",
     "start_time": "2021-09-25T13:02:16.391256Z"
    }
   },
   "outputs": [],
   "source": [
    "Attendance.create_table(read_capacity_units=1, write_capacity_units=1)"
   ]
  },
  {
   "cell_type": "code",
   "execution_count": 21,
   "id": "b3c937a2",
   "metadata": {
    "ExecuteTime": {
     "end_time": "2021-09-25T13:03:55.145770Z",
     "start_time": "2021-09-25T13:03:53.918755Z"
    }
   },
   "outputs": [
    {
     "name": "stdout",
     "output_type": "stream",
     "text": [
      "attendances<1, 2021-09-25>\n"
     ]
    }
   ],
   "source": [
    "user = Attendance.get(1, '2021-09-25')\n"
   ]
  },
  {
   "cell_type": "code",
   "execution_count": 26,
   "id": "6b480fde",
   "metadata": {
    "ExecuteTime": {
     "end_time": "2021-09-25T13:04:45.589854Z",
     "start_time": "2021-09-25T13:04:45.576912Z"
    }
   },
   "outputs": [
    {
     "name": "stdout",
     "output_type": "stream",
     "text": [
      "None\n"
     ]
    }
   ],
   "source": [
    "print(user.updated_at_timestamp)"
   ]
  },
  {
   "cell_type": "code",
   "execution_count": null,
   "id": "771022d8",
   "metadata": {},
   "outputs": [],
   "source": []
  }
 ],
 "metadata": {
  "kernelspec": {
   "display_name": "Python 3 (ipykernel)",
   "language": "python",
   "name": "python3"
  },
  "language_info": {
   "codemirror_mode": {
    "name": "ipython",
    "version": 3
   },
   "file_extension": ".py",
   "mimetype": "text/x-python",
   "name": "python",
   "nbconvert_exporter": "python",
   "pygments_lexer": "ipython3",
   "version": "3.9.6"
  }
 },
 "nbformat": 4,
 "nbformat_minor": 5
}
